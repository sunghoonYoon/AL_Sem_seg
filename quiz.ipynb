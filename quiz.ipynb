{
 "cells": [
  {
   "cell_type": "markdown",
   "metadata": {},
   "source": [
    "[ME455 2022 Fall] Active Learning 9 : Semantic Segmentation\n",
    "===\n",
    "* * *\n",
    "\n",
    "TA : Sung-Hoon Yoon 📧 : yoon307@kaist.ac.kr\n",
    "\n",
    "source : CS470 2019 Fall\n",
    "\n",
    "## ✨Instruction\n",
    "\n",
    "- Pixel-wise classification = Semantic segmentation.\n",
    "\n",
    "## ✨Submission guidelines\n",
    "\n",
    "- Discussion results (50pt)\n",
    "- the final results should be also submitted.(50pt)\n",
    "    1. (20pt) prediction results from PASCAL 2012 dataset (2007_000033.jpg 2007_000175.jpg), 2 images only \n",
    "    2. (30pt) Get segmentation prediction results from Your **OWN Video**: 5~10sec video. (the object class should be in the PASCAL Category) \n",
    "     ['aeroplane', 'bicycle', 'bird', 'boat', 'bottle','bus', 'car', 'cat', 'chair', 'cow', 'diningtable', 'dog', 'horse', 'motorbike', 'person', 'pottedplant', 'sheep', 'sofa', 'train', 'tvmonitor']\n",
    "        Take a video of your own, and get \".mp4 (.avi or other video format okay)\" format video (w/ segmentation prediction)\n",
    "        Tips: use cv2.VideoCapture, cv2.VideoWriter\n",
    "   \n",
    "- Your assignment should be submitted through **KLMS**.\n",
    "\n",
    "✨ Submit a zip file in a format: [StudentID_Name].zip.\n",
    "\n",
    "✨ Including : *.ipynb that you modified* (discussion), *final results*\n",
    "\n",
    "## ✨Grading policy\n",
    "\n",
    "- **Result** (50%): You should submit the two results (1:20pt. 2: 30pt)\n",
    "- **Discussion** (50%): You should answer the questions in the discussion part correctly. \n",
    "\n",
    "## ✨Deadline\n",
    "    - Nov. 4th 23:59 "
   ]
  },
  {
   "cell_type": "markdown",
   "metadata": {},
   "source": [
    ">## ✨Questions (50pt)\n",
    "- If you have any question, contact TA through zoom chat.\n",
    "- If there is some problem in code debugging, contact TA through e-mail. \n",
    "    ### Q1. What is the role of Pyramid pooling module in PSPNet? (10pt)\n",
    "    * Answer the question in 2-3 sentences.\n",
    "    ### Q2. For the evaluation of Semantic segmentation, we use mIoU. Answer what is mIoU and the drawback of mIoU. (15pt)\n",
    "    * Answer the question in 2-3 sentences.\n",
    "    ### Q3. What is disadantages of Semantic segmentation compare with classification and Object detection? (w.r.t labeling cost). (10pt)\n",
    "    * Answer the question in 1-2 sentences.\n",
    "    ### Q4. Suppose we only have classification label. But you are asked to train semantic segmentation network. How can we train a semantic segmenation network (hint: Active learning 7-XAI) (15pt)\n",
    "    * Answer the question in 2-3 sentences.\n",
    "    "
   ]
  }
 ],
 "metadata": {
  "kernelspec": {
   "display_name": "Python 3.8.13 ('wsss_ksj')",
   "language": "python",
   "name": "python3"
  },
  "language_info": {
   "name": "python",
   "version": "3.8.13"
  },
  "orig_nbformat": 4,
  "vscode": {
   "interpreter": {
    "hash": "6f0c8f0cdee1354878dc5d710d6113d8ed82e602ef56b0871a36b2b2c0d87e6e"
   }
  }
 },
 "nbformat": 4,
 "nbformat_minor": 2
}
